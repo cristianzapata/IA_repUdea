{
 "cells": [
  {
   "cell_type": "code",
   "execution_count": null,
   "id": "79694c3c",
   "metadata": {},
   "outputs": [],
   "source": [
    "# Cristian Zapata"
   ]
  },
  {
   "cell_type": "markdown",
   "id": "dbc2e24a",
   "metadata": {},
   "source": [
    "# Modelo de KNN"
   ]
  },
  {
   "cell_type": "code",
   "execution_count": 1,
   "id": "fdfa4afd",
   "metadata": {},
   "outputs": [],
   "source": [
    "# Librerias \n",
    "\n",
    "import os\n",
    "import numpy as np\n",
    "import pandas as pd\n",
    "import numpy as np, pandas as pd\n",
    "import matplotlib.pyplot as plt"
   ]
  },
  {
   "cell_type": "markdown",
   "id": "a522b189",
   "metadata": {},
   "source": [
    "Input Variable:\n",
    "\n",
    " \n",
    "\n",
    "**Buying price** (vhigh, high, med, low)\n",
    "\n",
    " \n",
    "\n",
    "**Price of the maintenance** (vhigh, high, med, low)\n",
    "\n",
    " \n",
    "\n",
    "**Number of doors** (2, 3, 4, 5more)\n",
    "\n",
    " \n",
    "\n",
    "**Persons capacity in terms of persons to carry** (2, 4, more)\n",
    "\n",
    " \n",
    "\n",
    "**Size of luggage boot** (small, med, big)\n",
    "\n",
    " \n",
    "\n",
    "**Estimated safety of the car** (low, med, high)\n",
    "\n",
    " \n",
    "\n",
    "Output Variable:\n",
    "\n",
    " \n",
    "\n",
    "**Car acceptability** (unacc, acc, good, vgood)"
   ]
  },
  {
   "cell_type": "code",
   "execution_count": 23,
   "id": "a7558dab",
   "metadata": {},
   "outputs": [],
   "source": [
    "data = pd.read_csv(r'data/car.data',names=['buying','maint','doors','persons','lug_boot','safety','class'])"
   ]
  },
  {
   "cell_type": "code",
   "execution_count": 24,
   "id": "875fcf74",
   "metadata": {},
   "outputs": [
    {
     "data": {
      "text/html": [
       "<div>\n",
       "<style scoped>\n",
       "    .dataframe tbody tr th:only-of-type {\n",
       "        vertical-align: middle;\n",
       "    }\n",
       "\n",
       "    .dataframe tbody tr th {\n",
       "        vertical-align: top;\n",
       "    }\n",
       "\n",
       "    .dataframe thead th {\n",
       "        text-align: right;\n",
       "    }\n",
       "</style>\n",
       "<table border=\"1\" class=\"dataframe\">\n",
       "  <thead>\n",
       "    <tr style=\"text-align: right;\">\n",
       "      <th></th>\n",
       "      <th>buying</th>\n",
       "      <th>maint</th>\n",
       "      <th>doors</th>\n",
       "      <th>persons</th>\n",
       "      <th>lug_boot</th>\n",
       "      <th>safety</th>\n",
       "      <th>class</th>\n",
       "    </tr>\n",
       "  </thead>\n",
       "  <tbody>\n",
       "    <tr>\n",
       "      <th>0</th>\n",
       "      <td>vhigh</td>\n",
       "      <td>vhigh</td>\n",
       "      <td>2</td>\n",
       "      <td>2</td>\n",
       "      <td>small</td>\n",
       "      <td>low</td>\n",
       "      <td>unacc</td>\n",
       "    </tr>\n",
       "    <tr>\n",
       "      <th>1</th>\n",
       "      <td>vhigh</td>\n",
       "      <td>vhigh</td>\n",
       "      <td>2</td>\n",
       "      <td>2</td>\n",
       "      <td>small</td>\n",
       "      <td>med</td>\n",
       "      <td>unacc</td>\n",
       "    </tr>\n",
       "    <tr>\n",
       "      <th>2</th>\n",
       "      <td>vhigh</td>\n",
       "      <td>vhigh</td>\n",
       "      <td>2</td>\n",
       "      <td>2</td>\n",
       "      <td>small</td>\n",
       "      <td>high</td>\n",
       "      <td>unacc</td>\n",
       "    </tr>\n",
       "    <tr>\n",
       "      <th>3</th>\n",
       "      <td>vhigh</td>\n",
       "      <td>vhigh</td>\n",
       "      <td>2</td>\n",
       "      <td>2</td>\n",
       "      <td>med</td>\n",
       "      <td>low</td>\n",
       "      <td>unacc</td>\n",
       "    </tr>\n",
       "    <tr>\n",
       "      <th>4</th>\n",
       "      <td>vhigh</td>\n",
       "      <td>vhigh</td>\n",
       "      <td>2</td>\n",
       "      <td>2</td>\n",
       "      <td>med</td>\n",
       "      <td>med</td>\n",
       "      <td>unacc</td>\n",
       "    </tr>\n",
       "    <tr>\n",
       "      <th>...</th>\n",
       "      <td>...</td>\n",
       "      <td>...</td>\n",
       "      <td>...</td>\n",
       "      <td>...</td>\n",
       "      <td>...</td>\n",
       "      <td>...</td>\n",
       "      <td>...</td>\n",
       "    </tr>\n",
       "    <tr>\n",
       "      <th>1723</th>\n",
       "      <td>low</td>\n",
       "      <td>low</td>\n",
       "      <td>5more</td>\n",
       "      <td>more</td>\n",
       "      <td>med</td>\n",
       "      <td>med</td>\n",
       "      <td>good</td>\n",
       "    </tr>\n",
       "    <tr>\n",
       "      <th>1724</th>\n",
       "      <td>low</td>\n",
       "      <td>low</td>\n",
       "      <td>5more</td>\n",
       "      <td>more</td>\n",
       "      <td>med</td>\n",
       "      <td>high</td>\n",
       "      <td>vgood</td>\n",
       "    </tr>\n",
       "    <tr>\n",
       "      <th>1725</th>\n",
       "      <td>low</td>\n",
       "      <td>low</td>\n",
       "      <td>5more</td>\n",
       "      <td>more</td>\n",
       "      <td>big</td>\n",
       "      <td>low</td>\n",
       "      <td>unacc</td>\n",
       "    </tr>\n",
       "    <tr>\n",
       "      <th>1726</th>\n",
       "      <td>low</td>\n",
       "      <td>low</td>\n",
       "      <td>5more</td>\n",
       "      <td>more</td>\n",
       "      <td>big</td>\n",
       "      <td>med</td>\n",
       "      <td>good</td>\n",
       "    </tr>\n",
       "    <tr>\n",
       "      <th>1727</th>\n",
       "      <td>low</td>\n",
       "      <td>low</td>\n",
       "      <td>5more</td>\n",
       "      <td>more</td>\n",
       "      <td>big</td>\n",
       "      <td>high</td>\n",
       "      <td>vgood</td>\n",
       "    </tr>\n",
       "  </tbody>\n",
       "</table>\n",
       "<p>1728 rows × 7 columns</p>\n",
       "</div>"
      ],
      "text/plain": [
       "     buying  maint  doors persons lug_boot safety  class\n",
       "0     vhigh  vhigh      2       2    small    low  unacc\n",
       "1     vhigh  vhigh      2       2    small    med  unacc\n",
       "2     vhigh  vhigh      2       2    small   high  unacc\n",
       "3     vhigh  vhigh      2       2      med    low  unacc\n",
       "4     vhigh  vhigh      2       2      med    med  unacc\n",
       "...     ...    ...    ...     ...      ...    ...    ...\n",
       "1723    low    low  5more    more      med    med   good\n",
       "1724    low    low  5more    more      med   high  vgood\n",
       "1725    low    low  5more    more      big    low  unacc\n",
       "1726    low    low  5more    more      big    med   good\n",
       "1727    low    low  5more    more      big   high  vgood\n",
       "\n",
       "[1728 rows x 7 columns]"
      ]
     },
     "execution_count": 24,
     "metadata": {},
     "output_type": "execute_result"
    }
   ],
   "source": [
    "data"
   ]
  },
  {
   "cell_type": "code",
   "execution_count": null,
   "id": "8e9f38f0",
   "metadata": {},
   "outputs": [],
   "source": [
    "\n",
    "# Ejercicio 1\n",
    "\n",
    "'''\n",
    "Explore el conjunto de datos \n",
    "\n",
    "- Revise las primeras 5 obervaciones \n",
    "- Identifque el tipo de variable de cada columna \n",
    "- Tome un momento para pensar en el contexto general del caso de uso.\n",
    "\n",
    "'''"
   ]
  },
  {
   "cell_type": "code",
   "execution_count": 25,
   "id": "c3501280",
   "metadata": {},
   "outputs": [
    {
     "name": "stdout",
     "output_type": "stream",
     "text": [
      "  buying  maint doors persons lug_boot safety  class\n",
      "0  vhigh  vhigh     2       2    small    low  unacc\n",
      "1  vhigh  vhigh     2       2    small    med  unacc\n",
      "2  vhigh  vhigh     2       2    small   high  unacc\n",
      "3  vhigh  vhigh     2       2      med    low  unacc\n",
      "4  vhigh  vhigh     2       2      med    med  unacc\n"
     ]
    }
   ],
   "source": [
    "print(data.head(5))"
   ]
  },
  {
   "cell_type": "code",
   "execution_count": 26,
   "id": "6a799853",
   "metadata": {},
   "outputs": [
    {
     "data": {
      "text/plain": [
       "buying      object\n",
       "maint       object\n",
       "doors       object\n",
       "persons     object\n",
       "lug_boot    object\n",
       "safety      object\n",
       "class       object\n",
       "dtype: object"
      ]
     },
     "execution_count": 26,
     "metadata": {},
     "output_type": "execute_result"
    }
   ],
   "source": [
    "data.dtypes"
   ]
  },
  {
   "cell_type": "code",
   "execution_count": null,
   "id": "c5ae60c2",
   "metadata": {},
   "outputs": [],
   "source": []
  },
  {
   "cell_type": "markdown",
   "id": "c743772a",
   "metadata": {},
   "source": [
    "**Categorizar las variables** "
   ]
  },
  {
   "cell_type": "code",
   "execution_count": 27,
   "id": "661af92b",
   "metadata": {},
   "outputs": [],
   "source": [
    "data['class'] = [1 if valor=='unacc' else \n",
    "                 2 if valor=='acc'   else \n",
    "                 3 if valor=='good'  else \n",
    "                 4 for valor in  data['class']]"
   ]
  },
  {
   "cell_type": "code",
   "execution_count": 17,
   "id": "1a569a91",
   "metadata": {},
   "outputs": [
    {
     "name": "stdout",
     "output_type": "stream",
     "text": [
      "Index(['unacc', 'acc', 'vgood', 'good'], dtype='object')\n",
      "[1 2 4 3]\n"
     ]
    }
   ],
   "source": [
    "print(class_names)\n",
    "print(data['class'].unique())"
   ]
  },
  {
   "cell_type": "code",
   "execution_count": null,
   "id": "74e94262",
   "metadata": {},
   "outputs": [],
   "source": [
    "# Ejercicio 2 \n",
    "\n",
    "'''\n",
    "Dado el ejemplo anterior de categorización de variables, aplique el mismo procedimiento a las columnas pertinentes.\n",
    "'''\n",
    "\n",
    "''' Revise que todas las columnas hayan quedado en el tipo de dato deseado'''"
   ]
  },
  {
   "cell_type": "code",
   "execution_count": 28,
   "id": "552d15d8",
   "metadata": {},
   "outputs": [
    {
     "name": "stdout",
     "output_type": "stream",
     "text": [
      "buying ['vhigh' 'high' 'med' 'low']\n",
      "maint ['vhigh' 'high' 'med' 'low']\n",
      "doors ['2' '3' '4' '5more']\n",
      "persons ['2' '4' 'more']\n",
      "lug_boot ['small' 'med' 'big']\n",
      "safety ['low' 'med' 'high']\n",
      "class [1 2 4 3]\n"
     ]
    }
   ],
   "source": [
    "for column in data.columns:\n",
    "    print(column, data[column].unique())"
   ]
  },
  {
   "cell_type": "code",
   "execution_count": 29,
   "id": "cbd7afe6",
   "metadata": {},
   "outputs": [],
   "source": [
    "data = pd.read_csv(r'data/car.data',names=['buying','maint','doors','persons','lug_boot','safety','class'])"
   ]
  },
  {
   "cell_type": "code",
   "execution_count": 30,
   "id": "fc1fd8fa",
   "metadata": {},
   "outputs": [
    {
     "name": "stdout",
     "output_type": "stream",
     "text": [
      "buying [4 3 2 1]\n",
      "maint [4 3 2 1]\n",
      "doors [1 2 3 4]\n",
      "persons [1 2 3]\n",
      "lug_boot [1 2 3]\n",
      "safety [1 2 3]\n",
      "class [1 2 4 3]\n"
     ]
    }
   ],
   "source": [
    "data['class'] = [1 if valor=='unacc' else \n",
    "                 2 if valor=='acc'   else \n",
    "                 3 if valor=='good'  else \n",
    "                 4 for valor in  data['class']]\n",
    "\n",
    " \n",
    "\n",
    "data['safety'] = [1 if valor=='low' else \n",
    "                 2 if valor=='med'   else \n",
    "                 3 for valor in  data['safety']]\n",
    "\n",
    " \n",
    "\n",
    "data['lug_boot'] = [1 if valor=='small' else \n",
    "                 2 if valor=='med'   else \n",
    "                 3 for valor in  data['lug_boot']]\n",
    "\n",
    " \n",
    "\n",
    "data['persons'] = [1 if valor=='2' else \n",
    "                 2 if valor=='4'   else \n",
    "                 3 for valor in  data['persons']]\n",
    "\n",
    " \n",
    "\n",
    "data['doors'] = [1 if valor=='2' else \n",
    "                 2 if valor=='3'   else \n",
    "                 3 if valor=='4'  else \n",
    "                 4 for valor in  data['doors']]\n",
    "\n",
    " \n",
    "\n",
    "data['maint'] = [1 if valor=='low' else \n",
    "                 2 if valor=='med'   else \n",
    "                 3 if valor=='high'  else \n",
    "                 4 for valor in  data['maint']]\n",
    "\n",
    " \n",
    "\n",
    "data['buying'] = [1 if valor=='low' else \n",
    "                 2 if valor=='med'   else \n",
    "                 3 if valor=='high'  else \n",
    "                 4 for valor in  data['buying']]\n",
    "\n",
    " \n",
    "\n",
    "for column in data.columns:\n",
    "    print(column, data[column].unique())"
   ]
  },
  {
   "cell_type": "code",
   "execution_count": 31,
   "id": "919a2378",
   "metadata": {},
   "outputs": [
    {
     "name": "stdout",
     "output_type": "stream",
     "text": [
      "[1 2 4 3]\n",
      "[1 2 4 3]\n",
      "[1 2 4 3]\n",
      "[1 2 4 3]\n",
      "[1 2 4 3]\n",
      "[1 2 4 3]\n",
      "[1 2 4 3]\n"
     ]
    }
   ],
   "source": [
    "for columns in data.columns:\n",
    "    print(data[column].unique())"
   ]
  },
  {
   "cell_type": "code",
   "execution_count": 32,
   "id": "cc6a9649",
   "metadata": {},
   "outputs": [
    {
     "data": {
      "text/html": [
       "<div>\n",
       "<style scoped>\n",
       "    .dataframe tbody tr th:only-of-type {\n",
       "        vertical-align: middle;\n",
       "    }\n",
       "\n",
       "    .dataframe tbody tr th {\n",
       "        vertical-align: top;\n",
       "    }\n",
       "\n",
       "    .dataframe thead th {\n",
       "        text-align: right;\n",
       "    }\n",
       "</style>\n",
       "<table border=\"1\" class=\"dataframe\">\n",
       "  <thead>\n",
       "    <tr style=\"text-align: right;\">\n",
       "      <th></th>\n",
       "      <th>buying</th>\n",
       "      <th>maint</th>\n",
       "      <th>doors</th>\n",
       "      <th>persons</th>\n",
       "      <th>lug_boot</th>\n",
       "      <th>safety</th>\n",
       "      <th>class</th>\n",
       "    </tr>\n",
       "  </thead>\n",
       "  <tbody>\n",
       "    <tr>\n",
       "      <th>0</th>\n",
       "      <td>4</td>\n",
       "      <td>4</td>\n",
       "      <td>1</td>\n",
       "      <td>1</td>\n",
       "      <td>1</td>\n",
       "      <td>1</td>\n",
       "      <td>1</td>\n",
       "    </tr>\n",
       "    <tr>\n",
       "      <th>1</th>\n",
       "      <td>4</td>\n",
       "      <td>4</td>\n",
       "      <td>1</td>\n",
       "      <td>1</td>\n",
       "      <td>1</td>\n",
       "      <td>2</td>\n",
       "      <td>1</td>\n",
       "    </tr>\n",
       "    <tr>\n",
       "      <th>2</th>\n",
       "      <td>4</td>\n",
       "      <td>4</td>\n",
       "      <td>1</td>\n",
       "      <td>1</td>\n",
       "      <td>1</td>\n",
       "      <td>3</td>\n",
       "      <td>1</td>\n",
       "    </tr>\n",
       "    <tr>\n",
       "      <th>3</th>\n",
       "      <td>4</td>\n",
       "      <td>4</td>\n",
       "      <td>1</td>\n",
       "      <td>1</td>\n",
       "      <td>2</td>\n",
       "      <td>1</td>\n",
       "      <td>1</td>\n",
       "    </tr>\n",
       "    <tr>\n",
       "      <th>4</th>\n",
       "      <td>4</td>\n",
       "      <td>4</td>\n",
       "      <td>1</td>\n",
       "      <td>1</td>\n",
       "      <td>2</td>\n",
       "      <td>2</td>\n",
       "      <td>1</td>\n",
       "    </tr>\n",
       "    <tr>\n",
       "      <th>...</th>\n",
       "      <td>...</td>\n",
       "      <td>...</td>\n",
       "      <td>...</td>\n",
       "      <td>...</td>\n",
       "      <td>...</td>\n",
       "      <td>...</td>\n",
       "      <td>...</td>\n",
       "    </tr>\n",
       "    <tr>\n",
       "      <th>1723</th>\n",
       "      <td>1</td>\n",
       "      <td>1</td>\n",
       "      <td>4</td>\n",
       "      <td>3</td>\n",
       "      <td>2</td>\n",
       "      <td>2</td>\n",
       "      <td>3</td>\n",
       "    </tr>\n",
       "    <tr>\n",
       "      <th>1724</th>\n",
       "      <td>1</td>\n",
       "      <td>1</td>\n",
       "      <td>4</td>\n",
       "      <td>3</td>\n",
       "      <td>2</td>\n",
       "      <td>3</td>\n",
       "      <td>4</td>\n",
       "    </tr>\n",
       "    <tr>\n",
       "      <th>1725</th>\n",
       "      <td>1</td>\n",
       "      <td>1</td>\n",
       "      <td>4</td>\n",
       "      <td>3</td>\n",
       "      <td>3</td>\n",
       "      <td>1</td>\n",
       "      <td>1</td>\n",
       "    </tr>\n",
       "    <tr>\n",
       "      <th>1726</th>\n",
       "      <td>1</td>\n",
       "      <td>1</td>\n",
       "      <td>4</td>\n",
       "      <td>3</td>\n",
       "      <td>3</td>\n",
       "      <td>2</td>\n",
       "      <td>3</td>\n",
       "    </tr>\n",
       "    <tr>\n",
       "      <th>1727</th>\n",
       "      <td>1</td>\n",
       "      <td>1</td>\n",
       "      <td>4</td>\n",
       "      <td>3</td>\n",
       "      <td>3</td>\n",
       "      <td>3</td>\n",
       "      <td>4</td>\n",
       "    </tr>\n",
       "  </tbody>\n",
       "</table>\n",
       "<p>1728 rows × 7 columns</p>\n",
       "</div>"
      ],
      "text/plain": [
       "      buying  maint  doors  persons  lug_boot  safety  class\n",
       "0          4      4      1        1         1       1      1\n",
       "1          4      4      1        1         1       2      1\n",
       "2          4      4      1        1         1       3      1\n",
       "3          4      4      1        1         2       1      1\n",
       "4          4      4      1        1         2       2      1\n",
       "...      ...    ...    ...      ...       ...     ...    ...\n",
       "1723       1      1      4        3         2       2      3\n",
       "1724       1      1      4        3         2       3      4\n",
       "1725       1      1      4        3         3       1      1\n",
       "1726       1      1      4        3         3       2      3\n",
       "1727       1      1      4        3         3       3      4\n",
       "\n",
       "[1728 rows x 7 columns]"
      ]
     },
     "execution_count": 32,
     "metadata": {},
     "output_type": "execute_result"
    }
   ],
   "source": [
    "data"
   ]
  },
  {
   "cell_type": "code",
   "execution_count": null,
   "id": "6df212e7",
   "metadata": {},
   "outputs": [],
   "source": [
    "# Ejercicio 3 \n",
    "\n",
    "'''\n",
    "Separe las variables predictoras en un objeto llamado X y la variable predictora en y\n",
    "'''\n",
    "\n",
    "'''\n",
    "Realice la construcción del train test split\n",
    "utilizando la funcion:\n",
    "from sklearn.model_selection import train_test_split\n",
    "'''"
   ]
  },
  {
   "cell_type": "code",
   "execution_count": 34,
   "id": "2ec3ddcf",
   "metadata": {},
   "outputs": [],
   "source": [
    "# Solución\n",
    "from sklearn.model_selection import train_test_split\n",
    "\n",
    "\n",
    "# - Separación de variables \n",
    "X = data[['buying', 'maint', 'doors', 'persons', 'lug_boot', 'safety']]\n",
    "y = data['class']\n",
    "\n",
    "# - Train - test - split\n",
    "X_train, X_test, y_train, y_test = train_test_split(X, y, train_size=0.7)\n"
   ]
  },
  {
   "cell_type": "code",
   "execution_count": 35,
   "id": "50b93d45",
   "metadata": {},
   "outputs": [
    {
     "name": "stdout",
     "output_type": "stream",
     "text": [
      "(519, 6)\n",
      "(1209, 6)\n"
     ]
    }
   ],
   "source": [
    "print(X_test.shape)\n",
    "print(X_train.shape)"
   ]
  },
  {
   "cell_type": "code",
   "execution_count": null,
   "id": "f07e21c5",
   "metadata": {},
   "outputs": [],
   "source": [
    "# Ejercicio 4\n",
    "\n",
    "'''\n",
    "Cargue la función KNeigborsClassifier \n",
    "from sklearn.neighbors import KNeighborsClassifier\n",
    "y cree un modelo de 10 con 10 n_neighbors \n",
    "'''\n",
    "\n",
    "'''\n",
    "Ajuste los datos de entrenamiento al modelo generado en el literal anterior \n",
    "'''"
   ]
  },
  {
   "cell_type": "code",
   "execution_count": 36,
   "id": "d05dc99c",
   "metadata": {},
   "outputs": [
    {
     "name": "stdout",
     "output_type": "stream",
     "text": [
      "              precision    recall  f1-score   support\n",
      "\n",
      "           1       0.92      1.00      0.96       356\n",
      "           2       0.90      0.82      0.86       121\n",
      "           3       0.82      0.36      0.50        25\n",
      "           4       1.00      0.71      0.83        17\n",
      "\n",
      "    accuracy                           0.92       519\n",
      "   macro avg       0.91      0.72      0.79       519\n",
      "weighted avg       0.91      0.92      0.91       519\n",
      "\n"
     ]
    }
   ],
   "source": [
    "#####\n",
    "\n",
    "from sklearn.neighbors import KNeighborsClassifier\n",
    "from sklearn.metrics import classification_report\n",
    " \n",
    "\n",
    "knn = KNeighborsClassifier(n_neighbors=10)\n",
    "\n",
    " \n",
    "\n",
    "modelo_knn = knn.fit(X_train,y_train)\n",
    "\n",
    " \n",
    "\n",
    "#### Predicciones\n",
    "\n",
    " \n",
    "\n",
    "predicciones = modelo_knn.predict(X_test)\n",
    "\n",
    " \n",
    "\n",
    "#### Evaluación\n",
    "\n",
    " \n",
    "\n",
    "print(classification_report(y_test, predicciones)) "
   ]
  },
  {
   "cell_type": "code",
   "execution_count": null,
   "id": "4b37eb44",
   "metadata": {},
   "outputs": [],
   "source": [
    "# Ejercico 5\n",
    "\n",
    "'''\n",
    "en una variable llamada predicciones determine la predicción del modelo para los valores de prueba\n",
    "'''\n",
    "\n",
    "'''\n",
    "Calcule el accuracy del modelo con la función \n",
    "from sklearn.metrics import accuracy_score \n",
    "'''\n",
    "\n",
    "'''Utilice la asignación de predicciones del literal primero para evaluar el classification report\n",
    "con la función:\n",
    "from sklearn.metrics import classification_report\n",
    "'''"
   ]
  },
  {
   "cell_type": "markdown",
   "id": "371f6e49",
   "metadata": {},
   "source": [
    "**Forma de determinar el n_neighbors mas adecuado** "
   ]
  },
  {
   "cell_type": "code",
   "execution_count": 37,
   "id": "9cbf598b",
   "metadata": {},
   "outputs": [
    {
     "name": "stdout",
     "output_type": "stream",
     "text": [
      "Accuracy is  84.20038535645472 % for K-Value: 1\n",
      "Accuracy is  80.92485549132948 % for K-Value: 2\n",
      "Accuracy is  89.40269749518305 % for K-Value: 3\n",
      "Accuracy is  89.01734104046243 % for K-Value: 4\n",
      "Accuracy is  93.83429672447014 % for K-Value: 5\n",
      "Accuracy is  93.0635838150289 % for K-Value: 6\n",
      "Accuracy is  93.0635838150289 % for K-Value: 7\n",
      "Accuracy is  92.29287090558766 % for K-Value: 8\n",
      "Accuracy is  92.10019267822736 % for K-Value: 9\n",
      "Accuracy is  91.71483622350675 % for K-Value: 10\n",
      "Accuracy is  90.36608863198458 % for K-Value: 11\n",
      "Accuracy is  89.98073217726397 % for K-Value: 12\n",
      "Accuracy is  90.5587668593449 % for K-Value: 13\n",
      "Accuracy is  90.5587668593449 % for K-Value: 14\n",
      "Accuracy is  90.17341040462428 % for K-Value: 15\n",
      "Accuracy is  90.5587668593449 % for K-Value: 16\n",
      "Accuracy is  90.7514450867052 % for K-Value: 17\n",
      "Accuracy is  90.17341040462428 % for K-Value: 18\n",
      "Accuracy is  89.78805394990366 % for K-Value: 19\n",
      "Accuracy is  89.21001926782274 % for K-Value: 20\n",
      "Accuracy is  89.78805394990366 % for K-Value: 21\n",
      "Accuracy is  89.98073217726397 % for K-Value: 22\n",
      "Accuracy is  90.5587668593449 % for K-Value: 23\n",
      "Accuracy is  89.59537572254335 % for K-Value: 24\n",
      "Accuracy is  90.5587668593449 % for K-Value: 25\n"
     ]
    }
   ],
   "source": [
    "from sklearn.metrics import accuracy_score\n",
    "for K in range(25):\n",
    "    K_value = K+1\n",
    "    neigh = KNeighborsClassifier(n_neighbors = K_value)\n",
    "    neigh.fit(X_train, y_train)\n",
    "    y_pred = neigh.predict(X_test)\n",
    "    print(\"Accuracy is \", accuracy_score(y_test,y_pred)*100,\"% for K-Value:\",K_value)"
   ]
  }
 ],
 "metadata": {
  "kernelspec": {
   "display_name": "Python 3 (ipykernel)",
   "language": "python",
   "name": "python3"
  },
  "language_info": {
   "codemirror_mode": {
    "name": "ipython",
    "version": 3
   },
   "file_extension": ".py",
   "mimetype": "text/x-python",
   "name": "python",
   "nbconvert_exporter": "python",
   "pygments_lexer": "ipython3",
   "version": "3.10.9"
  },
  "toc": {
   "base_numbering": 1,
   "nav_menu": {},
   "number_sections": true,
   "sideBar": true,
   "skip_h1_title": false,
   "title_cell": "Table of Contents",
   "title_sidebar": "Contents",
   "toc_cell": false,
   "toc_position": {},
   "toc_section_display": true,
   "toc_window_display": false
  },
  "varInspector": {
   "cols": {
    "lenName": 16,
    "lenType": 16,
    "lenVar": 40
   },
   "kernels_config": {
    "python": {
     "delete_cmd_postfix": "",
     "delete_cmd_prefix": "del ",
     "library": "var_list.py",
     "varRefreshCmd": "print(var_dic_list())"
    },
    "r": {
     "delete_cmd_postfix": ") ",
     "delete_cmd_prefix": "rm(",
     "library": "var_list.r",
     "varRefreshCmd": "cat(var_dic_list()) "
    }
   },
   "types_to_exclude": [
    "module",
    "function",
    "builtin_function_or_method",
    "instance",
    "_Feature"
   ],
   "window_display": false
  }
 },
 "nbformat": 4,
 "nbformat_minor": 5
}
